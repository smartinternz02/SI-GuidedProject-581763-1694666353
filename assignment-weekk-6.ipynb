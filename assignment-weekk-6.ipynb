{
 "cells": [
  {
   "cell_type": "markdown",
   "id": "4417fe9a",
   "metadata": {},
   "source": [
    "1.Download the Employee Attrition Dataset\n",
    "\n",
    "https://www.kaggle.com/datasets/patelprashant/employee-attrition\n",
    "\n",
    "2.Perfrom Data Preprocessing\n",
    "\n",
    "3.Model Building using Logistic Regression and Decision Tree and Random Forest\n",
    "\n",
    "4.Calculate Performance metrics"
   ]
  },
  {
   "cell_type": "code",
   "execution_count": null,
   "id": "06ac1b1e",
   "metadata": {},
   "outputs": [],
   "source": []
  }
 ],
 "metadata": {
  "kernelspec": {
   "display_name": "ML",
   "language": "python",
   "name": "ml"
  },
  "language_info": {
   "codemirror_mode": {
    "name": "ipython",
    "version": 3
   },
   "file_extension": ".py",
   "mimetype": "text/x-python",
   "name": "python",
   "nbconvert_exporter": "python",
   "pygments_lexer": "ipython3",
   "version": "3.10.6"
  }
 },
 "nbformat": 4,
 "nbformat_minor": 5
}
